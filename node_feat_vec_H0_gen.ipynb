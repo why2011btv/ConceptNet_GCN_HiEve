{
 "cells": [
  {
   "cell_type": "code",
   "execution_count": 1,
   "metadata": {},
   "outputs": [
    {
     "data": {
      "text/plain": [
       "array([[-0.35203013, -0.519703  , -0.5082201 , ..., -0.6231235 ,\n",
       "         0.12225971,  0.25618467],\n",
       "       [-0.13849737,  0.13084638, -0.29118702, ..., -0.06588281,\n",
       "        -0.00618753,  0.0776842 ],\n",
       "       [-0.2062205 ,  0.134542  , -0.2308292 , ...,  0.00856066,\n",
       "        -0.28270125,  0.21008037]], dtype=float32)"
      ]
     },
     "execution_count": 1,
     "metadata": {},
     "output_type": "execute_result"
    }
   ],
   "source": [
    "from bert_serving.client import BertClient\n",
    "\n",
    "bc = BertClient()\n",
    "bc.encode(['First do it', 'then do it right', 'then do it better'])"
   ]
  },
  {
   "cell_type": "code",
   "execution_count": 6,
   "metadata": {},
   "outputs": [],
   "source": [
    "import datetime\n",
    "m = '1'\n",
    "\n",
    "def trigger(m):\n",
    "    file_dir = './why_merged_' + m + '_set.tsv'\n",
    "    trigger = []\n",
    "    with open(file_dir, 'r') as f:\n",
    "        line = f.readline()\n",
    "        while line:\n",
    "            trigger.append(line[:-1])\n",
    "            line = f.readline()\n",
    "    return trigger\n",
    "\n",
    "print(datetime.datetime.now().strftime(\"%Y-%m-%d %H:%M:%S\"))            \n",
    "node_feat_vec_H0 = bc.encode(trigger(m))\n",
    "print(datetime.datetime.now().strftime(\"%Y-%m-%d %H:%M:%S\"))"
   ]
  },
  {
   "cell_type": "code",
   "execution_count": 8,
   "metadata": {},
   "outputs": [
    {
     "data": {
      "text/plain": [
       "'horsedrawn'"
      ]
     },
     "execution_count": 8,
     "metadata": {},
     "output_type": "execute_result"
    }
   ],
   "source": [
    "trigger(m)[0]"
   ]
  },
  {
   "cell_type": "code",
   "execution_count": 9,
   "metadata": {},
   "outputs": [],
   "source": [
    "node_feat_vec_H0.tofile('./node_feat_vec_H0_cutoff_1.txt')"
   ]
  },
  {
   "cell_type": "code",
   "execution_count": 10,
   "metadata": {},
   "outputs": [
    {
     "data": {
      "text/plain": [
       "(15416, 1024)"
      ]
     },
     "execution_count": 10,
     "metadata": {},
     "output_type": "execute_result"
    }
   ],
   "source": [
    "node_feat_vec_H0.shape"
   ]
  },
  {
   "cell_type": "code",
   "execution_count": 11,
   "metadata": {},
   "outputs": [
    {
     "data": {
      "text/plain": [
       "array([[-0.35297507, -0.22740407, -0.19447984, ..., -0.0569369 ,\n",
       "         0.17511049, -0.09723566],\n",
       "       [ 0.00375161, -0.00091526, -0.35506472, ..., -0.01399807,\n",
       "        -0.06329449,  0.00300139],\n",
       "       [-0.33524147, -0.39062202, -0.39476842, ...,  0.05107611,\n",
       "        -0.0935757 ,  0.10289674],\n",
       "       ...,\n",
       "       [-0.37337765,  0.26264188, -0.01487699, ..., -0.02145712,\n",
       "        -0.32158008, -0.04037918],\n",
       "       [-0.25224444, -0.4252523 , -0.28638512, ..., -0.27043825,\n",
       "        -0.26729077,  0.2441927 ],\n",
       "       [ 0.04946773, -0.6664528 , -0.70813686, ...,  0.14435521,\n",
       "         0.10090546,  0.38960525]], dtype=float32)"
      ]
     },
     "execution_count": 11,
     "metadata": {},
     "output_type": "execute_result"
    }
   ],
   "source": [
    "node_feat_vec_H0"
   ]
  },
  {
   "cell_type": "code",
   "execution_count": 14,
   "metadata": {},
   "outputs": [],
   "source": [
    "list_1 = trigger(m)"
   ]
  },
  {
   "cell_type": "code",
   "execution_count": 15,
   "metadata": {},
   "outputs": [
    {
     "data": {
      "text/plain": [
       "0"
      ]
     },
     "execution_count": 15,
     "metadata": {},
     "output_type": "execute_result"
    }
   ],
   "source": [
    "list_1.index('horsedrawn')"
   ]
  },
  {
   "cell_type": "code",
   "execution_count": 17,
   "metadata": {},
   "outputs": [],
   "source": [
    "with open('./list_1.txt', 'w') as f_index:\n",
    "    for item in list_1:\n",
    "        f_index.write(item)\n",
    "        f_index.write('\\n')"
   ]
  },
  {
   "cell_type": "code",
   "execution_count": null,
   "metadata": {},
   "outputs": [],
   "source": []
  }
 ],
 "metadata": {
  "kernelspec": {
   "display_name": "Python 3",
   "language": "python",
   "name": "python3"
  },
  "language_info": {
   "codemirror_mode": {
    "name": "ipython",
    "version": 3
   },
   "file_extension": ".py",
   "mimetype": "text/x-python",
   "name": "python",
   "nbconvert_exporter": "python",
   "pygments_lexer": "ipython3",
   "version": "3.6.8"
  }
 },
 "nbformat": 4,
 "nbformat_minor": 2
}
